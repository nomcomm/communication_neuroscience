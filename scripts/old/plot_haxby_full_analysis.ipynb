{
 "cells": [
  {
   "cell_type": "code",
   "execution_count": 1,
   "metadata": {},
   "outputs": [],
   "source": [
    "%matplotlib inline"
   ]
  },
  {
   "cell_type": "markdown",
   "metadata": {},
   "source": [
    "\n",
    "ROI-based decoding analysis in Haxby et al. dataset\n",
    "=====================================================\n",
    "\n",
    "In this script we reproduce the data analysis conducted by\n",
    "Haxby et al. in \"Distributed and Overlapping Representations of Faces and\n",
    "Objects in Ventral Temporal Cortex\".\n",
    "\n",
    "Specifically, we look at decoding accuracy for different objects in\n",
    "three different masks: the full ventral stream (mask_vt), the house\n",
    "selective areas (mask_house) and the face selective areas (mask_face),\n",
    "that have been defined via a standard GLM-based analysis.\n",
    "\n",
    "\n"
   ]
  },
  {
   "cell_type": "markdown",
   "metadata": {},
   "source": [
    "First we load and prepare the data\n",
    "-----------------------------------\n",
    "Fetch data using nilearn dataset fetcher\n",
    "\n"
   ]
  },
  {
   "cell_type": "code",
   "execution_count": 2,
   "metadata": {},
   "outputs": [
    {
     "name": "stderr",
     "output_type": "stream",
     "text": [
      "/Users/Ralf/anaconda3/lib/python3.6/site-packages/h5py/__init__.py:36: FutureWarning: Conversion of the second argument of issubdtype from `float` to `np.floating` is deprecated. In future, it will be treated as `np.float64 == np.dtype(float).type`.\n",
      "  from ._conv import register_converters as _register_converters\n"
     ]
    },
    {
     "name": "stdout",
     "output_type": "stream",
     "text": [
      "First subject anatomical nifti image (3D) located is at: /Users/Ralf/nilearn_data/haxby2001/subj2/anat.nii.gz\n",
      "First subject functional nifti image (4D) is located at: /Users/Ralf/nilearn_data/haxby2001/subj2/bold.nii.gz\n"
     ]
    }
   ],
   "source": [
    "from nilearn import datasets\n",
    "# by default we fetch 2nd subject data for analysis\n",
    "haxby_dataset = datasets.fetch_haxby()\n",
    "func_filename = haxby_dataset.func[0]\n",
    "\n",
    "# Print basic information on the dataset\n",
    "print('First subject anatomical nifti image (3D) located is at: %s' %\n",
    "      haxby_dataset.anat[0])\n",
    "print('First subject functional nifti image (4D) is located at: %s' %\n",
    "      func_filename)\n",
    "\n",
    "# Load nilearn NiftiMasker, the practical masking and unmasking tool\n",
    "from nilearn.input_data import NiftiMasker\n",
    "\n",
    "# load labels\n",
    "import pandas as pd\n",
    "labels = pd.read_csv(haxby_dataset.session_target[0], sep=\" \")\n",
    "stimuli = labels['labels']\n",
    "# identify resting state labels in order to be able to remove them\n",
    "task_mask = (stimuli != 'rest')\n",
    "\n",
    "# find names of remaining active labels\n",
    "categories = stimuli[task_mask].unique()\n",
    "\n",
    "# extract tags indicating to which acquisition run a tag belongs\n",
    "session_labels = labels[\"chunks\"][task_mask]"
   ]
  },
  {
   "cell_type": "code",
   "execution_count": 3,
   "metadata": {},
   "outputs": [
    {
     "data": {
      "text/plain": [
       "'/Users/Ralf/nilearn_data/haxby2001/subj2/anat.nii.gz'"
      ]
     },
     "execution_count": 3,
     "metadata": {},
     "output_type": "execute_result"
    }
   ],
   "source": [
    "haxby_dataset.anat[0]"
   ]
  },
  {
   "cell_type": "markdown",
   "metadata": {},
   "source": [
    "Then we use scikit-learn for decoding on the different masks\n",
    "-------------------------------------------------------------\n",
    "The classifier: a support vector classifier\n",
    "\n"
   ]
  },
  {
   "cell_type": "code",
   "execution_count": 4,
   "metadata": {},
   "outputs": [
    {
     "name": "stderr",
     "output_type": "stream",
     "text": [
      "/Users/Ralf/anaconda3/lib/python3.6/site-packages/sklearn/cross_validation.py:41: DeprecationWarning: This module was deprecated in version 0.18 in favor of the model_selection module into which all the refactored classes and functions are moved. Also note that the interface of the new CV iterators are different from that of this module. This module will be removed in 0.20.\n",
      "  \"This module will be removed in 0.20.\", DeprecationWarning)\n"
     ]
    },
    {
     "name": "stdout",
     "output_type": "stream",
     "text": [
      "Working on mask mask_vt\n",
      "Processing mask_vt scissors\n",
      "Scores: 0.90 +- 0.08\n",
      "Processing mask_vt face\n",
      "Scores: 0.97 +- 0.03\n",
      "Processing mask_vt cat\n",
      "Scores: 0.96 +- 0.03\n",
      "Processing mask_vt shoe\n",
      "Scores: 0.94 +- 0.07\n",
      "Processing mask_vt house\n",
      "Scores: 1.00 +- 0.00\n",
      "Processing mask_vt scrambledpix\n",
      "Scores: 1.00 +- 0.00\n",
      "Processing mask_vt bottle\n",
      "Scores: 0.90 +- 0.07\n",
      "Processing mask_vt chair\n",
      "Scores: 0.94 +- 0.03\n",
      "Working on mask mask_face\n",
      "Processing mask_face scissors\n",
      "Scores: 0.67 +- 0.15\n",
      "Processing mask_face face\n",
      "Scores: 0.88 +- 0.07\n",
      "Processing mask_face cat\n",
      "Scores: 0.68 +- 0.14\n",
      "Processing mask_face shoe\n",
      "Scores: 0.64 +- 0.14\n",
      "Processing mask_face house\n",
      "Scores: 0.71 +- 0.14\n",
      "Processing mask_face scrambledpix\n",
      "Scores: 0.86 +- 0.12\n",
      "Processing mask_face bottle\n",
      "Scores: 0.45 +- 0.19\n",
      "Processing mask_face chair\n",
      "Scores: 0.53 +- 0.16\n",
      "Working on mask mask_house\n",
      "Processing mask_house scissors\n",
      "Scores: 0.82 +- 0.10\n",
      "Processing mask_house face\n",
      "Scores: 0.84 +- 0.09\n",
      "Processing mask_house cat\n",
      "Scores: 0.80 +- 0.10\n",
      "Processing mask_house shoe\n",
      "Scores: 0.81 +- 0.13\n",
      "Processing mask_house house\n",
      "Scores: 0.99 +- 0.02\n",
      "Processing mask_house scrambledpix\n",
      "Scores: 0.91 +- 0.11\n",
      "Processing mask_house bottle\n",
      "Scores: 0.82 +- 0.13\n",
      "Processing mask_house chair\n",
      "Scores: 0.88 +- 0.09\n"
     ]
    }
   ],
   "source": [
    "from sklearn.svm import SVC\n",
    "classifier = SVC(C=1., kernel=\"linear\")\n",
    "\n",
    "# A classifier to set the chance level\n",
    "from sklearn.dummy import DummyClassifier\n",
    "dummy_classifier = DummyClassifier()\n",
    "\n",
    "# Make a data splitting object for cross validation\n",
    "from sklearn.cross_validation import LeaveOneLabelOut, cross_val_score\n",
    "cv = LeaveOneLabelOut(session_labels)\n",
    "\n",
    "mask_names = ['mask_vt', 'mask_face', 'mask_house']\n",
    "\n",
    "mask_scores = {}\n",
    "mask_chance_scores = {}\n",
    "\n",
    "for mask_name in mask_names:\n",
    "    print(\"Working on mask %s\" % mask_name)\n",
    "    # For decoding, standardizing is often very important\n",
    "    mask_filename = haxby_dataset[mask_name][0]\n",
    "    masker = NiftiMasker(mask_img=mask_filename, standardize=True)\n",
    "    masked_timecourses = masker.fit_transform(\n",
    "        func_filename)[task_mask]\n",
    "\n",
    "    mask_scores[mask_name] = {}\n",
    "    mask_chance_scores[mask_name] = {}\n",
    "\n",
    "    for category in categories:\n",
    "        print(\"Processing %s %s\" % (mask_name, category))\n",
    "        classification_target = (stimuli[task_mask] == category)\n",
    "        mask_scores[mask_name][category] = cross_val_score(\n",
    "            classifier,\n",
    "            masked_timecourses,\n",
    "            classification_target,\n",
    "            cv=cv, scoring=\"roc_auc\")\n",
    "\n",
    "        mask_chance_scores[mask_name][category] = cross_val_score(\n",
    "            dummy_classifier,\n",
    "            masked_timecourses,\n",
    "            classification_target,\n",
    "            cv=cv, scoring=\"roc_auc\")\n",
    "\n",
    "        print(\"Scores: %1.2f +- %1.2f\" % (\n",
    "            mask_scores[mask_name][category].mean(),\n",
    "            mask_scores[mask_name][category].std()))"
   ]
  },
  {
   "cell_type": "markdown",
   "metadata": {},
   "source": [
    "We make a simple bar plot to summarize the results\n",
    "---------------------------------------------------\n",
    "\n"
   ]
  },
  {
   "cell_type": "code",
   "execution_count": 5,
   "metadata": {},
   "outputs": [
    {
     "data": {
      "image/png": "[encoded data removed]",
      "text/plain": [
       "<matplotlib.figure.Figure at 0x1c0d56d390>"
      ]
     },
     "metadata": {},
     "output_type": "display_data"
    }
   ],
   "source": [
    "import numpy as np\n",
    "import matplotlib.pyplot as plt\n",
    "plt.figure()\n",
    "\n",
    "tick_position = np.arange(len(categories))\n",
    "plt.xticks(tick_position, categories, rotation=45)\n",
    "\n",
    "for color, mask_name in zip('rgb', mask_names):\n",
    "    score_means = [mask_scores[mask_name][category].mean()\n",
    "                   for category in categories]\n",
    "    plt.bar(tick_position, score_means, label=mask_name,\n",
    "            width=.25, color=color)\n",
    "\n",
    "    score_chance = [mask_chance_scores[mask_name][category].mean()\n",
    "                    for category in categories]\n",
    "    plt.bar(tick_position, score_chance,\n",
    "            width=.25, edgecolor='k', facecolor='none')\n",
    "\n",
    "    tick_position = tick_position + .2\n",
    "\n",
    "plt.ylabel('Classification accurancy (AUC score)')\n",
    "plt.xlabel('Visual stimuli category')\n",
    "plt.ylim(0.3, 1)\n",
    "plt.legend(loc='lower right')\n",
    "plt.title('Category-specific classification accuracy for different masks')\n",
    "plt.tight_layout()\n",
    "\n",
    "\n",
    "plt.show()"
   ]
  },
  {
   "cell_type": "code",
   "execution_count": null,
   "metadata": {},
   "outputs": [],
   "source": []
  }
 ],
 "metadata": {
  "kernelspec": {
   "display_name": "Python 3",
   "language": "python",
   "name": "python3"
  },
  "language_info": {
   "codemirror_mode": {
    "name": "ipython",
    "version": 3
   },
   "file_extension": ".py",
   "mimetype": "text/x-python",
   "name": "python",
   "nbconvert_exporter": "python",
   "pygments_lexer": "ipython3",
   "version": "3.6.4"
  }
 },
 "nbformat": 4,
 "nbformat_minor": 1
}
