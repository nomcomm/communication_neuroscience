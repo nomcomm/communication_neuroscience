{
 "cells": [
  {
   "cell_type": "markdown",
   "metadata": {},
   "source": [
    "## This is a interactive analysis notebook\n",
    "It allows for \"literate coding\". \n",
    "\n",
    "This means, you can write comments (in comment/markdown cells) that help explaining real code (written in julia, python, or R language, hence JuPyteR). But most importantly, you can execute the code (by pressing the \"run cell\" button - or by clicking shift+enter). This makes those notebooks excellent teaching tools.\n",
    "\n",
    "#### We begin by importing the relevant modules "
   ]
  },
  {
   "cell_type": "code",
   "execution_count": null,
   "metadata": {},
   "outputs": [],
   "source": [
    "from nilearn import datasets\n",
    "from nilearn import plotting\n",
    "import matplotlib.pyplot as plt\n",
    "%matplotlib inline\n",
    "import nibabel as nib\n",
    "import numpy as np"
   ]
  },
  {
   "cell_type": "markdown",
   "metadata": {},
   "source": [
    "## Loading and examining functional data"
   ]
  },
  {
   "cell_type": "code",
   "execution_count": null,
   "metadata": {},
   "outputs": [],
   "source": [
    "import os\n",
    "os.listdir(os.getcwd())"
   ]
  },
  {
   "cell_type": "code",
   "execution_count": null,
   "metadata": {},
   "outputs": [],
   "source": [
    "s = nib.load('../data/structural.nii')\n",
    "struc_data = s.get_data()\n",
    "\n",
    "curr_slice = 50\n",
    "plt.imshow(  np.squeeze(struc_data[:,:, curr_slice]   ), cmap = 'gray' );"
   ]
  },
  {
   "cell_type": "markdown",
   "metadata": {},
   "source": [
    "## Loading and examining functional data"
   ]
  },
  {
   "cell_type": "code",
   "execution_count": null,
   "metadata": {},
   "outputs": [],
   "source": [
    "f = nib.load('../data/functional.nii.gz')\n",
    "fmri_data = f.get_data()\n",
    "plt.plot(fmri_data[20,20,20,:]);"
   ]
  },
  {
   "cell_type": "code",
   "execution_count": null,
   "metadata": {},
   "outputs": [],
   "source": [
    "dataset = datasets.fetch_atlas_harvard_oxford('cort-maxprob-thr25-2mm')\n",
    "atlas_filename = dataset.maps\n",
    "print('Atlas ROIs are located at: %s' % atlas_filename)\n",
    "plotting.plot_roi(atlas_filename, title=\"Harvard Oxford atlas\")\n",
    "plotting.show()"
   ]
  },
  {
   "cell_type": "code",
   "execution_count": null,
   "metadata": {},
   "outputs": [],
   "source": []
  }
 ],
 "metadata": {
  "kernelspec": {
   "display_name": "Python 2",
   "language": "python",
   "name": "python2"
  },
  "language_info": {
   "codemirror_mode": {
    "name": "ipython",
    "version": 2
   },
   "file_extension": ".py",
   "mimetype": "text/x-python",
   "name": "python",
   "nbconvert_exporter": "python",
   "pygments_lexer": "ipython2",
   "version": "2.7.14"
  }
 },
 "nbformat": 4,
 "nbformat_minor": 1
}
