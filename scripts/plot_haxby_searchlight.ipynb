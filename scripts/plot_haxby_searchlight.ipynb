{
 "cells": [
  {
   "cell_type": "code",
   "execution_count": 1,
   "metadata": {},
   "outputs": [],
   "source": [
    "%matplotlib inline"
   ]
  },
  {
   "cell_type": "markdown",
   "metadata": {},
   "source": [
    "\n",
    "Searchlight analysis of face vs house recognition\n",
    "==================================================\n",
    "\n",
    "Searchlight analysis requires fitting a classifier a large amount of\n",
    "times. As a result, it is an intrinsically slow method. In order to speed\n",
    "up computing, in this example, Searchlight is run only on one slice on\n",
    "the fMRI (see the generated figures).\n",
    "\n",
    "\n"
   ]
  },
  {
   "cell_type": "markdown",
   "metadata": {},
   "source": [
    "Load Haxby dataset\n",
    "-------------------\n",
    "\n"
   ]
  },
  {
   "cell_type": "code",
   "execution_count": 2,
   "metadata": {},
   "outputs": [
    {
     "name": "stderr",
     "output_type": "stream",
     "text": [
      "/Users/Ralf/anaconda3/lib/python3.6/site-packages/h5py/__init__.py:36: FutureWarning: Conversion of the second argument of issubdtype from `float` to `np.floating` is deprecated. In future, it will be treated as `np.float64 == np.dtype(float).type`.\n",
      "  from ._conv import register_converters as _register_converters\n"
     ]
    },
    {
     "name": "stdout",
     "output_type": "stream",
     "text": [
      "Anatomical nifti image (3D) is located at: /Users/Ralf/nilearn_data/haxby2001/mask.nii.gz\n",
      "Functional nifti image (4D) is located at: /Users/Ralf/nilearn_data/haxby2001/subj2/bold.nii.gz\n"
     ]
    }
   ],
   "source": [
    "import pandas as pd\n",
    "from nilearn import datasets\n",
    "from nilearn.image import new_img_like, load_img\n",
    "\n",
    "# We fetch 2nd subject from haxby datasets (which is default)\n",
    "haxby_dataset = datasets.fetch_haxby()\n",
    "\n",
    "# print basic information on the dataset\n",
    "print('Anatomical nifti image (3D) is located at: %s' % haxby_dataset.mask)\n",
    "print('Functional nifti image (4D) is located at: %s' % haxby_dataset.func[0])\n",
    "\n",
    "fmri_filename = haxby_dataset.func[0]\n",
    "labels = pd.read_csv(haxby_dataset.session_target[0], sep=\" \")\n",
    "y = labels['labels']\n",
    "session = labels['chunks']"
   ]
  },
  {
   "cell_type": "markdown",
   "metadata": {},
   "source": [
    "Restrict to faces and houses\n",
    "------------------------------\n",
    "\n"
   ]
  },
  {
   "cell_type": "code",
   "execution_count": 3,
   "metadata": {},
   "outputs": [],
   "source": [
    "from nilearn.image import index_img\n",
    "condition_mask = y.isin(['face', 'house'])\n",
    "\n",
    "fmri_img = index_img(fmri_filename, condition_mask)\n",
    "y, session = y[condition_mask], session[condition_mask]"
   ]
  },
  {
   "cell_type": "markdown",
   "metadata": {},
   "source": [
    "Prepare masks\n",
    "--------------\n",
    "- mask_img is the original mask\n",
    "- process_mask_img is a subset of mask_img, it contains the voxels that\n",
    "  should be processed (we only keep the slice z = 26 and the back of the\n",
    "  brain to speed up computation)\n",
    "\n"
   ]
  },
  {
   "cell_type": "code",
   "execution_count": 4,
   "metadata": {},
   "outputs": [],
   "source": [
    "import numpy as np\n",
    "\n",
    "mask_img = load_img(haxby_dataset.mask)\n",
    "\n",
    "# .astype() makes a copy.\n",
    "process_mask = mask_img.get_data().astype(np.int)\n",
    "picked_slice = 29\n",
    "process_mask[..., (picked_slice + 1):] = 0\n",
    "process_mask[..., :picked_slice] = 0\n",
    "process_mask[:, 30:] = 0\n",
    "process_mask_img = new_img_like(mask_img, process_mask)"
   ]
  },
  {
   "cell_type": "markdown",
   "metadata": {},
   "source": [
    "Searchlight computation\n",
    "-------------------------\n",
    "\n"
   ]
  },
  {
   "cell_type": "code",
   "execution_count": 5,
   "metadata": {},
   "outputs": [
    {
     "name": "stderr",
     "output_type": "stream",
     "text": [
      "/Users/Ralf/anaconda3/lib/python3.6/site-packages/sklearn/cross_validation.py:41: DeprecationWarning: This module was deprecated in version 0.18 in favor of the model_selection module into which all the refactored classes and functions are moved. Also note that the interface of the new CV iterators are different from that of this module. This module will be removed in 0.20.\n",
      "  \"This module will be removed in 0.20.\", DeprecationWarning)\n",
      "[Parallel(n_jobs=1)]: Done   1 out of   1 | elapsed:   28.8s finished\n"
     ]
    },
    {
     "data": {
      "text/plain": [
       "SearchLight(cv=sklearn.cross_validation.KFold(n=216, n_folds=4, shuffle=False, random_state=None),\n",
       "      estimator='svc',\n",
       "      mask_img=<nibabel.nifti1.Nifti1Image object at 0x1c0b462898>,\n",
       "      n_jobs=1,\n",
       "      process_mask_img=<nibabel.nifti1.Nifti1Image object at 0x1c0b4627f0>,\n",
       "      radius=5.6, scoring=None, verbose=1)"
      ]
     },
     "execution_count": 5,
     "metadata": {},
     "output_type": "execute_result"
    }
   ],
   "source": [
    "# Make processing parallel\n",
    "# /!\\ As each thread will print its progress, n_jobs > 1 could mess up the\n",
    "#     information output.\n",
    "n_jobs = 1\n",
    "\n",
    "# Define the cross-validation scheme used for validation.\n",
    "# Here we use a KFold cross-validation on the session, which corresponds to\n",
    "# splitting the samples in 4 folds and make 4 runs using each fold as a test\n",
    "# set once and the others as learning sets\n",
    "from sklearn.cross_validation import KFold\n",
    "cv = KFold(y.size, n_folds=4)\n",
    "\n",
    "import nilearn.decoding\n",
    "# The radius is the one of the Searchlight sphere that will scan the volume\n",
    "searchlight = nilearn.decoding.SearchLight(\n",
    "    mask_img,\n",
    "    process_mask_img=process_mask_img,\n",
    "    radius=5.6, n_jobs=n_jobs,\n",
    "    verbose=1, cv=cv)\n",
    "searchlight.fit(fmri_img, y)"
   ]
  },
  {
   "cell_type": "markdown",
   "metadata": {},
   "source": [
    "F-scores computation\n",
    "----------------------\n",
    "\n"
   ]
  },
  {
   "cell_type": "code",
   "execution_count": 7,
   "metadata": {},
   "outputs": [],
   "source": [
    "from nilearn.input_data import NiftiMasker\n",
    "\n",
    "# For decoding, standardizing is often very important\n",
    "nifti_masker = NiftiMasker(mask_img=mask_img, sessions=session,\n",
    "                           standardize=True, memory='nilearn_cache',\n",
    "                           memory_level=1)\n",
    "fmri_masked = nifti_masker.fit_transform(fmri_img)\n",
    "\n",
    "from sklearn.feature_selection import f_classif\n",
    "f_values, p_values = f_classif(fmri_masked, y)\n",
    "p_values = -np.log10(p_values)\n",
    "p_values[p_values > 10] = 10\n",
    "p_unmasked = nifti_masker.inverse_transform(p_values).get_data()"
   ]
  },
  {
   "cell_type": "markdown",
   "metadata": {},
   "source": [
    "Visualization\n",
    "--------------\n",
    "Use the fmri mean image as a surrogate of anatomical data\n",
    "\n"
   ]
  },
  {
   "cell_type": "code",
   "execution_count": 14,
   "metadata": {},
   "outputs": [
    {
     "name": "stderr",
     "output_type": "stream",
     "text": [
      "/Users/Ralf/anaconda3/lib/python3.6/site-packages/matplotlib/cbook/deprecation.py:106: MatplotlibDeprecationWarning: Adding an axes using the same arguments as a previous axes currently reuses the earlier instance.  In a future version, a new instance will always be created and returned.  Meanwhile, this warning can be suppressed, and the future behavior ensured, by passing a unique label to each axes instance.\n",
      "  warnings.warn(message, mplDeprecation, stacklevel=1)\n"
     ]
    },
    {
     "data": {
      "image/png": "[encoded data removed]",
      "text/plain": [
       "<matplotlib.figure.Figure at 0x1c14cebda0>"
      ]
     },
     "metadata": {},
     "output_type": "display_data"
    },
    {
     "data": {
      "image/png": "[encoded data removed]",
      "text/plain": [
       "<matplotlib.figure.Figure at 0x1c14cf1cf8>"
      ]
     },
     "metadata": {},
     "output_type": "display_data"
    }
   ],
   "source": [
    "from nilearn import image\n",
    "mean_fmri = image.mean_img(fmri_img)\n",
    "\n",
    "from nilearn.plotting import plot_stat_map, plot_img, show\n",
    "searchlight_img = new_img_like(mean_fmri, searchlight.scores_)\n",
    "\n",
    "# Because scores are not a zero-center test statistics, we cannot use\n",
    "# plot_stat_map\n",
    "plot_img(searchlight_img, bg_img=mean_fmri,\n",
    "         title=\"Searchlight\", display_mode=\"z\", cut_coords=[-9],\n",
    "         vmin=.42, cmap='hot', threshold=.2, black_bg=True)\n",
    "\n",
    "# F_score results\n",
    "p_ma = np.ma.array(p_unmasked, mask=np.logical_not(process_mask))\n",
    "f_score_img = new_img_like(mean_fmri, p_ma)\n",
    "plot_stat_map(f_score_img, mean_fmri,\n",
    "              threshold = 8,\n",
    "              title=\"F-scores\", display_mode=\"z\",\n",
    "              cut_coords=[-9],\n",
    "              colorbar=True)\n",
    "\n",
    "show()"
   ]
  },
  {
   "cell_type": "code",
   "execution_count": null,
   "metadata": {},
   "outputs": [],
   "source": []
  }
 ],
 "metadata": {
  "kernelspec": {
   "display_name": "Python 3",
   "language": "python",
   "name": "python3"
  },
  "language_info": {
   "codemirror_mode": {
    "name": "ipython",
    "version": 3
   },
   "file_extension": ".py",
   "mimetype": "text/x-python",
   "name": "python",
   "nbconvert_exporter": "python",
   "pygments_lexer": "ipython3",
   "version": "3.6.4"
  }
 },
 "nbformat": 4,
 "nbformat_minor": 1
}
