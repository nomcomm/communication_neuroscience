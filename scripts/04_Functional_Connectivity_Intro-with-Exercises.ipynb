{
 "cells": [
  {
   "cell_type": "markdown",
   "metadata": {},
   "source": [
    "\n",
    "Extract signals on spheres and plot a connectome\n",
    "==============================================================\n",
    "\n",
    "Created by Nilearn-Team\n",
    "\n",
    "Modified/added by Ralf Schmaelzle, 2020\n",
    "\n",
    "\n",
    "This example shows how to extract signals from spherical regions.\n",
    "We show how to build spheres around user-defined coordinates, as well as\n",
    "centered on coordinates from the Power-264 atlas [1], and the Dosenbach-160\n",
    "atlas [2].\n",
    "\n",
    "**References**\n",
    "\n",
    "[1] Power, Jonathan D., et al. \"Functional network organization of the\n",
    "human brain.\" Neuron 72.4 (2011): 665-678.\n",
    "\n",
    "[2] Dosenbach N.U., Nardos B., et al. \"Prediction of individual brain maturity\n",
    "using fMRI.\", 2010, Science 329, 1358-1361.\n",
    "\n",
    "We estimate connectomes using two different methods: **sparse inverse\n",
    "covariance** and **partial_correlation**, to recover the functional brain\n",
    "**networks structure**.\n",
    "\n",
    "We'll start by extracting signals from Default Mode Network regions and\n",
    "computing a connectome from them.\n"
   ]
  },
  {
   "cell_type": "code",
   "execution_count": null,
   "metadata": {},
   "outputs": [],
   "source": [
    "import warnings\n",
    "warnings.filterwarnings('ignore')\n",
    "from nilearn import plotting\n",
    "from nilearn.image import mean_img\n",
    "%matplotlib inline"
   ]
  },
  {
   "cell_type": "markdown",
   "metadata": {},
   "source": [
    "Retrieve the brain development fmri dataset\n",
    "-------------------------------------------\n",
    "\n",
    "We are going to use a subject from the development functional\n",
    "connectivity dataset.\n",
    "\n"
   ]
  },
  {
   "cell_type": "code",
   "execution_count": null,
   "metadata": {},
   "outputs": [],
   "source": [
    "from nilearn import datasets\n",
    "dataset = datasets.fetch_development_fmri(n_subjects=20)\n",
    "\n",
    "# print basic information on the dataset\n",
    "print('First subject functional nifti image (4D) is at: %s' %\n",
    "      dataset.func[0])  # 4D data"
   ]
  },
  {
   "cell_type": "markdown",
   "metadata": {},
   "source": [
    "Coordinates of Default Mode Network\n",
    "------------------------------------\n",
    "\n"
   ]
  },
  {
   "cell_type": "code",
   "execution_count": null,
   "metadata": {},
   "outputs": [],
   "source": [
    "dmn_coords = [(0, -52, 18), (-46, -68, 32), (46, -68, 32), (1, 50, -5)]\n",
    "labels = [\n",
    "    'Posterior Cingulate Cortex',\n",
    "    'Left Temporoparietal junction',\n",
    "    'Right Temporoparietal junction',\n",
    "    'Medial prefrontal cortex',\n",
    "    ]"
   ]
  },
  {
   "cell_type": "markdown",
   "metadata": {},
   "source": [
    "***Exercise:***\n",
    "\n",
    "Go to an online-brain viewer of your choice and look up one of these coordinates"
   ]
  },
  {
   "cell_type": "markdown",
   "metadata": {},
   "source": [
    "Extracts signal from sphere around DMN seeds\n",
    "----------------------------------------------\n",
    "\n",
    "We can compute the mean signal within **spheres** of a fixed radius\n",
    "around a sequence of (x, y, z) coordinates with the object\n",
    ":class:`nilearn.input_data.NiftiSpheresMasker`.\n",
    "The resulting signal is then prepared by the masker object: Detrended,\n",
    "band-pass filtered and **standardized to 1 variance**.\n",
    "\n"
   ]
  },
  {
   "cell_type": "code",
   "execution_count": null,
   "metadata": {},
   "outputs": [],
   "source": [
    "from nilearn import input_data\n",
    "\n",
    "masker = input_data.NiftiSpheresMasker(\n",
    "    dmn_coords, radius=8,\n",
    "    detrend=True, standardize=True,\n",
    "    low_pass=0.1, high_pass=0.01, t_r=2,\n",
    "    memory='nilearn_cache', memory_level=1, verbose=2)\n",
    "\n",
    "# Additionally, we pass confound information to ensure our extracted\n",
    "# signal is cleaned from confounds.\n",
    "\n",
    "func_filename = dataset.func[0]\n",
    "confounds_filename = dataset.confounds[0]\n",
    "\n",
    "time_series = masker.fit_transform(func_filename,\n",
    "                                   confounds=[confounds_filename])"
   ]
  },
  {
   "cell_type": "markdown",
   "metadata": {},
   "source": [
    "***Exercise:***\n",
    "\n",
    "Insert a new cell and use it to explore the time_series array? \n",
    "\n",
    "What is its shape? Why is it that size?\n",
    "\n",
    "Other ideas?"
   ]
  },
  {
   "cell_type": "markdown",
   "metadata": {},
   "source": [
    "Display time series\n",
    "--------------------\n",
    "\n"
   ]
  },
  {
   "cell_type": "code",
   "execution_count": null,
   "metadata": {},
   "outputs": [],
   "source": [
    "import matplotlib.pyplot as plt\n",
    "\n",
    "for time_serie, label in zip(time_series.T, labels):\n",
    "    plt.plot(time_serie, label=label)\n",
    "\n",
    "plt.title('Default Mode Network Time Series')\n",
    "plt.xlabel('Scan number')\n",
    "plt.ylabel('Normalized signal')\n",
    "plt.legend()\n",
    "plt.tight_layout()"
   ]
  },
  {
   "cell_type": "markdown",
   "metadata": {},
   "source": [
    "Compute  correlation matrix\n",
    "-----------------------------------"
   ]
  },
  {
   "cell_type": "code",
   "execution_count": null,
   "metadata": {},
   "outputs": [],
   "source": [
    "from nilearn.connectome import ConnectivityMeasure\n",
    "connectivity_measure = ConnectivityMeasure(kind='correlation')\n",
    "correlation_matrix = connectivity_measure.fit_transform(\n",
    "    [time_series])[0]"
   ]
  },
  {
   "cell_type": "markdown",
   "metadata": {},
   "source": [
    "***Exercise:***\n",
    "\n",
    "Insert a new cell and use it to explore the correlation_matrix array? \n",
    "\n",
    "What is its shape? Why is it that size?\n",
    "\n",
    "Other ideas?"
   ]
  },
  {
   "cell_type": "markdown",
   "metadata": {},
   "source": [
    "Display connectome\n",
    "-------------------\n",
    "\n",
    "We display the graph of connections with\n",
    "`:func: nilearn.plotting.plot_connectome`.\n",
    "\n"
   ]
  },
  {
   "cell_type": "code",
   "execution_count": null,
   "metadata": {},
   "outputs": [],
   "source": [
    "from nilearn import plotting\n",
    "\n",
    "plotting.plot_connectome(correlation_matrix, dmn_coords,\n",
    "                         title=\"Default Mode Network Connectivity\")"
   ]
  },
  {
   "cell_type": "markdown",
   "metadata": {},
   "source": [
    "Display connectome with hemispheric projections.\n",
    "Notice (0, -52, 18) is included in both hemispheres since x == 0.\n",
    "\n"
   ]
  },
  {
   "cell_type": "code",
   "execution_count": null,
   "metadata": {},
   "outputs": [],
   "source": [
    "plotting.plot_connectome(correlation_matrix, dmn_coords,\n",
    "                         title=\"Connectivity projected on hemispheres\",\n",
    "                         display_mode='lyrz')\n",
    "\n",
    "plotting.show()"
   ]
  },
  {
   "cell_type": "markdown",
   "metadata": {},
   "source": [
    "3D visualization in a web browser\n",
    "---------------------------------\n",
    "An alternative to :func:`nilearn.plotting.plot_connectome` is to use\n",
    ":func:`nilearn.plotting.view_connectome`, which gives more interactive\n",
    "visualizations in a web browser. See `interactive-connectome-plotting`\n",
    "for more details.\n",
    "\n"
   ]
  },
  {
   "cell_type": "code",
   "execution_count": null,
   "metadata": {},
   "outputs": [],
   "source": [
    "view = plotting.view_connectome(correlation_matrix, dmn_coords)\n",
    "\n",
    "# In a Jupyter notebook, if ``view`` is the output of a cell, it will\n",
    "# be displayed below the cell\n",
    "view"
   ]
  },
  {
   "cell_type": "markdown",
   "metadata": {},
   "source": [
    "Extract signals on spheres from an atlas\n",
    "----------------------------------------\n",
    "\n",
    "Next, instead of supplying our own coordinates, we will use coordinates\n",
    "generated at the center of mass of regions from two different atlases.\n",
    "This time, we'll use a different correlation measure.\n",
    "\n",
    "First we fetch the coordinates of the Power atlas\n",
    "\n"
   ]
  },
  {
   "cell_type": "code",
   "execution_count": null,
   "metadata": {},
   "outputs": [],
   "source": [
    "power = datasets.fetch_coords_power_2011()\n",
    "print('Power atlas comes with {0}.'.format(power.keys()))"
   ]
  },
  {
   "cell_type": "markdown",
   "metadata": {},
   "source": [
    "Compute within spheres averaged time-series\n",
    "-------------------------------------------\n",
    "\n",
    "We collect the regions coordinates in a numpy array\n",
    "\n"
   ]
  },
  {
   "cell_type": "code",
   "execution_count": null,
   "metadata": {},
   "outputs": [],
   "source": [
    "import numpy as np\n",
    "\n",
    "coords = np.vstack((power.rois['x'], power.rois['y'], power.rois['z'])).T\n",
    "\n",
    "print('Stacked power coordinates in array of shape {0}.'.format(coords.shape))"
   ]
  },
  {
   "cell_type": "markdown",
   "metadata": {},
   "source": [
    "and define spheres masker, with small enough radius to avoid regions overlap.\n",
    "\n"
   ]
  },
  {
   "cell_type": "code",
   "execution_count": null,
   "metadata": {},
   "outputs": [],
   "source": [
    "spheres_masker = input_data.NiftiSpheresMasker(\n",
    "    seeds=coords, smoothing_fwhm=6, radius=5.,\n",
    "    detrend=True, standardize=True, low_pass=0.1, high_pass=0.01, t_r=2)\n",
    "\n",
    "timeseries = spheres_masker.fit_transform(func_filename,\n",
    "                                          confounds=confounds_filename)"
   ]
  },
  {
   "cell_type": "markdown",
   "metadata": {},
   "source": [
    "Estimate correlations\n",
    "---------------------\n",
    "\n",
    "We start by estimating the signal **covariance** matrix. Here the\n",
    "number of ROIs exceeds the number of samples,\n",
    "\n"
   ]
  },
  {
   "cell_type": "code",
   "execution_count": null,
   "metadata": {},
   "outputs": [],
   "source": [
    "print('time series has {0} samples'.format(timeseries.shape[0]))"
   ]
  },
  {
   "cell_type": "markdown",
   "metadata": {},
   "source": [
    "in which situation the graphical lasso **sparse inverse covariance**\n",
    "estimator captures well the covariance **structure**.\n",
    "\n"
   ]
  },
  {
   "cell_type": "code",
   "execution_count": null,
   "metadata": {},
   "outputs": [],
   "source": [
    "try:\n",
    "    from sklearn.covariance import GraphicalLassoCV\n",
    "except ImportError:\n",
    "    # for Scitkit-Learn < v0.20.0\n",
    "    from sklearn.covariance import GraphLassoCV as GraphicalLassoCV\n",
    "\n",
    "covariance_estimator = GraphicalLassoCV(cv=3, verbose=1)"
   ]
  },
  {
   "cell_type": "markdown",
   "metadata": {},
   "source": [
    "We just fit our regions signals into the `GraphicalLassoCV` object\n",
    "\n"
   ]
  },
  {
   "cell_type": "code",
   "execution_count": null,
   "metadata": {},
   "outputs": [],
   "source": [
    "covariance_estimator.fit(timeseries)"
   ]
  },
  {
   "cell_type": "markdown",
   "metadata": {},
   "source": [
    "and get the ROI-to-ROI covariance matrix.\n",
    "\n"
   ]
  },
  {
   "cell_type": "code",
   "execution_count": null,
   "metadata": {},
   "outputs": [],
   "source": [
    "matrix = covariance_estimator.covariance_\n",
    "print('Covariance matrix has shape {0}.'.format(matrix.shape))"
   ]
  },
  {
   "cell_type": "markdown",
   "metadata": {},
   "source": [
    "Plot matrix, graph, and strength\n",
    "--------------------------------\n",
    "\n",
    "We use `:func: nilearn.plotting.plot_matrix` to visualize our correlation matrix\n",
    "and display the graph of connections with `nilearn.plotting.plot_connectome`.\n",
    "\n"
   ]
  },
  {
   "cell_type": "code",
   "execution_count": null,
   "metadata": {},
   "outputs": [],
   "source": [
    "from nilearn import plotting\n",
    "\n",
    "plotting.plot_matrix(matrix, vmin=-1., vmax=1., colorbar=True,\n",
    "                     title='Power correlation matrix')\n",
    "\n",
    "# Tweak edge_threshold to keep only the strongest connections.\n",
    "plotting.plot_connectome(matrix, coords, title='Power correlation graph',\n",
    "                         edge_threshold='99.8%', node_size=20, colorbar=True)"
   ]
  },
  {
   "cell_type": "markdown",
   "metadata": {},
   "source": [
    "Sometimes, the information in the correlation matrix is overwhelming and\n",
    "aggregating edge strength from the graph would help. Use the function\n",
    "`nilearn.plotting.plot_connectome_strength` to visualize this information.\n",
    "\n"
   ]
  },
  {
   "cell_type": "code",
   "execution_count": null,
   "metadata": {},
   "outputs": [],
   "source": [
    "plotting.plot_connectome_strength(\n",
    "    matrix, coords, title='Connectome strength for Power atlas'\n",
    ")"
   ]
  },
  {
   "cell_type": "markdown",
   "metadata": {},
   "source": [
    "From the correlation matrix, we observe that there is a positive and negative\n",
    "structure. We could make two different plots by plotting these strengths\n",
    "separately.\n",
    "\n"
   ]
  },
  {
   "cell_type": "code",
   "execution_count": null,
   "metadata": {},
   "outputs": [],
   "source": [
    "from matplotlib.pyplot import cm\n",
    "\n",
    "# plot the positive part of of the matrix\n",
    "plotting.plot_connectome_strength(\n",
    "    np.clip(matrix, 0, matrix.max()), coords, cmap=cm.YlOrRd,\n",
    "    title='Strength of the positive edges of the Power correlation matrix'\n",
    ")\n",
    "\n",
    "# plot the negative part of of the matrix\n",
    "plotting.plot_connectome_strength(\n",
    "    np.clip(matrix, matrix.min(), 0), coords, cmap=cm.PuBu,\n",
    "    title='Strength of the negative edges of the Power correlation matrix'\n",
    ")"
   ]
  },
  {
   "cell_type": "markdown",
   "metadata": {},
   "source": [
    "Connectome extracted from Dosenbach's atlas\n",
    "-------------------------------------------\n",
    "\n",
    "We repeat the same steps for Dosenbach's atlas.\n",
    "\n"
   ]
  },
  {
   "cell_type": "code",
   "execution_count": null,
   "metadata": {},
   "outputs": [],
   "source": [
    "dosenbach = datasets.fetch_coords_dosenbach_2010()\n",
    "\n",
    "coords = np.vstack((\n",
    "    dosenbach.rois['x'],\n",
    "    dosenbach.rois['y'],\n",
    "    dosenbach.rois['z'],\n",
    ")).T\n",
    "\n",
    "spheres_masker = input_data.NiftiSpheresMasker(\n",
    "    seeds=coords, smoothing_fwhm=6, radius=4.5,\n",
    "    detrend=True, standardize=True, low_pass=0.1, high_pass=0.01, t_r=2)\n",
    "\n",
    "timeseries = spheres_masker.fit_transform(func_filename,\n",
    "                                          confounds=confounds_filename)\n",
    "\n",
    "covariance_estimator = GraphicalLassoCV()\n",
    "covariance_estimator.fit(timeseries)\n",
    "matrix = covariance_estimator.covariance_\n",
    "\n",
    "plotting.plot_matrix(matrix, vmin=-1., vmax=1., colorbar=True,\n",
    "                     title='Dosenbach correlation matrix')\n",
    "\n",
    "plotting.plot_connectome(matrix, coords, title='Dosenbach correlation graph',\n",
    "                         edge_threshold=\"99.7%\", node_size=20, colorbar=True)\n",
    "plotting.plot_connectome_strength(\n",
    "    matrix, coords, title='Connectome strength for Power atlas'\n",
    ")\n",
    "plotting.plot_connectome_strength(\n",
    "    np.clip(matrix, 0, matrix.max()), coords, cmap=cm.YlOrRd,\n",
    "    title='Strength of the positive edges of the Power correlation matrix'\n",
    ")\n",
    "plotting.plot_connectome_strength(\n",
    "    np.clip(matrix, matrix.min(), 0), coords, cmap=cm.PuBu,\n",
    "    title='Strength of the negative edges of the Power correlation matrix'\n",
    ")"
   ]
  },
  {
   "cell_type": "markdown",
   "metadata": {},
   "source": [
    "We can easily identify the Dosenbach's networks from the matrix blocks.\n",
    "\n"
   ]
  },
  {
   "cell_type": "code",
   "execution_count": null,
   "metadata": {},
   "outputs": [],
   "source": [
    "print('Dosenbach networks names are {0}'.format(np.unique(dosenbach.networks)))\n",
    "\n",
    "plotting.show()"
   ]
  }
 ],
 "metadata": {
  "kernelspec": {
   "display_name": "Python 3",
   "language": "python",
   "name": "python3"
  },
  "language_info": {
   "codemirror_mode": {
    "name": "ipython",
    "version": 3
   },
   "file_extension": ".py",
   "mimetype": "text/x-python",
   "name": "python",
   "nbconvert_exporter": "python",
   "pygments_lexer": "ipython3",
   "version": "3.7.3"
  }
 },
 "nbformat": 4,
 "nbformat_minor": 1
}
