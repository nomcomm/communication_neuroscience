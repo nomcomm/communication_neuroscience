{
 "cells": [
  {
   "cell_type": "markdown",
   "metadata": {},
   "source": [
    "\n",
    "Classification of age groups using functional connectivity\n",
    "==========================================================\n",
    "\n",
    "This example compares different kinds of functional connectivity between\n",
    "regions of interest : correlation, partial correlation, and tangent space\n",
    "embedding.\n",
    "\n",
    "The resulting connectivity coefficients can be used to\n",
    "discriminate children from adults. In general, the tangent space embedding\n",
    "**outperforms** the standard correlations: see `Dadi et al 2019\n",
    "<https://www.sciencedirect.com/science/article/pii/S1053811919301594>`_\n",
    "for a careful study.\n"
   ]
  },
  {
   "cell_type": "code",
   "execution_count": null,
   "metadata": {},
   "outputs": [],
   "source": [
    "import warnings\n",
    "warnings.filterwarnings('ignore')\n",
    "from nilearn import plotting\n",
    "from nilearn.image import mean_img\n",
    "%matplotlib inline"
   ]
  },
  {
   "cell_type": "markdown",
   "metadata": {},
   "source": [
    "Load brain development fMRI dataset and MSDL atlas\n",
    "-------------------------------------------------------------------\n",
    "We study only 30 subjects from the dataset, to save computation time.\n",
    "\n"
   ]
  },
  {
   "cell_type": "code",
   "execution_count": null,
   "metadata": {},
   "outputs": [],
   "source": [
    "from nilearn import datasets\n",
    "\n",
    "development_dataset = datasets.fetch_development_fmri(n_subjects=30)"
   ]
  },
  {
   "cell_type": "markdown",
   "metadata": {},
   "source": [
    "We use probabilistic regions of interest (ROIs) from the MSDL atlas.\n",
    "\n"
   ]
  },
  {
   "cell_type": "code",
   "execution_count": null,
   "metadata": {},
   "outputs": [],
   "source": [
    "msdl_data = datasets.fetch_atlas_msdl()\n",
    "msdl_coords = msdl_data.region_coords\n",
    "n_regions = len(msdl_coords)\n",
    "print('MSDL has {0} ROIs, part of the following networks :\\n{1}.'.format(\n",
    "    n_regions, msdl_data.networks))"
   ]
  },
  {
   "cell_type": "markdown",
   "metadata": {},
   "source": [
    "Region signals extraction\n",
    "-------------------------\n",
    "To extract regions time series, we instantiate a\n",
    ":class:`nilearn.input_data.NiftiMapsMasker` object and pass the atlas the\n",
    "file name to it, as well as filtering band-width and detrending option.\n",
    "\n"
   ]
  },
  {
   "cell_type": "code",
   "execution_count": null,
   "metadata": {},
   "outputs": [],
   "source": [
    "from nilearn import input_data\n",
    "\n",
    "masker = input_data.NiftiMapsMasker(\n",
    "    msdl_data.maps, resampling_target=\"data\", t_r=2, detrend=True,\n",
    "    low_pass=.1, high_pass=.01, memory='nilearn_cache', memory_level=1).fit()"
   ]
  },
  {
   "cell_type": "markdown",
   "metadata": {},
   "source": [
    "Then we compute region signals and extract useful phenotypic informations.\n",
    "\n"
   ]
  },
  {
   "cell_type": "code",
   "execution_count": null,
   "metadata": {},
   "outputs": [],
   "source": [
    "children = []\n",
    "pooled_subjects = []\n",
    "groups = []  # child or adult\n",
    "for func_file, confound_file, phenotypic in zip(\n",
    "        development_dataset.func,\n",
    "        development_dataset.confounds,\n",
    "        development_dataset.phenotypic):\n",
    "    time_series = masker.transform(func_file, confounds=confound_file)\n",
    "    pooled_subjects.append(time_series)\n",
    "    if phenotypic['Child_Adult'] == 'child':\n",
    "        children.append(time_series)\n",
    "    groups.append(phenotypic['Child_Adult'])\n",
    "\n",
    "print('Data has {0} children.'.format(len(children)))"
   ]
  },
  {
   "cell_type": "markdown",
   "metadata": {},
   "source": [
    "ROI-to-ROI correlations of children\n",
    "-----------------------------------\n",
    "The simpler and most commonly used kind of connectivity is correlation. It\n",
    "models the full (marginal) connectivity between pairwise ROIs. We can\n",
    "estimate it using :class:`nilearn.connectome.ConnectivityMeasure`.\n",
    "\n"
   ]
  },
  {
   "cell_type": "code",
   "execution_count": null,
   "metadata": {},
   "outputs": [],
   "source": [
    "from nilearn.connectome import ConnectivityMeasure\n",
    "\n",
    "correlation_measure = ConnectivityMeasure(kind='correlation')"
   ]
  },
  {
   "cell_type": "markdown",
   "metadata": {},
   "source": [
    "From the list of ROIs time-series for children, the\n",
    "`correlation_measure` computes individual correlation matrices.\n",
    "\n"
   ]
  },
  {
   "cell_type": "code",
   "execution_count": null,
   "metadata": {},
   "outputs": [],
   "source": [
    "correlation_matrices = correlation_measure.fit_transform(children)\n",
    "\n",
    "# All individual coefficients are stacked in a unique 2D matrix.\n",
    "print('Correlations of children are stacked in an array of shape {0}'\n",
    "      .format(correlation_matrices.shape))"
   ]
  },
  {
   "cell_type": "markdown",
   "metadata": {},
   "source": [
    "as well as the average correlation across all fitted subjects.\n",
    "\n"
   ]
  },
  {
   "cell_type": "code",
   "execution_count": null,
   "metadata": {},
   "outputs": [],
   "source": [
    "mean_correlation_matrix = correlation_measure.mean_\n",
    "print('Mean correlation has shape {0}.'.format(mean_correlation_matrix.shape))"
   ]
  },
  {
   "cell_type": "markdown",
   "metadata": {},
   "source": [
    "We display the connectome matrices of the first 3 children\n",
    "\n"
   ]
  },
  {
   "cell_type": "code",
   "execution_count": null,
   "metadata": {},
   "outputs": [],
   "source": [
    "from nilearn import plotting\n",
    "from matplotlib import pyplot as plt\n",
    "\n",
    "_, axes = plt.subplots(1, 3, figsize=(15, 5))\n",
    "for i, (matrix, ax) in enumerate(zip(correlation_matrices, axes)):\n",
    "    plotting.plot_matrix(matrix, tri='lower', colorbar=False, axes=ax,\n",
    "                         title='correlation, child {}'.format(i))"
   ]
  },
  {
   "cell_type": "markdown",
   "metadata": {},
   "source": [
    "The blocks structure that reflect functional networks are visible.\n",
    "\n"
   ]
  },
  {
   "cell_type": "markdown",
   "metadata": {},
   "source": [
    "Now we display as a connectome the mean correlation matrix over all children.\n",
    "\n"
   ]
  },
  {
   "cell_type": "code",
   "execution_count": null,
   "metadata": {},
   "outputs": [],
   "source": [
    "plotting.plot_connectome(mean_correlation_matrix, msdl_coords,\n",
    "                         title='mean correlation over all children')"
   ]
  },
  {
   "cell_type": "markdown",
   "metadata": {},
   "source": [
    "Studying partial correlations\n",
    "-----------------------------\n",
    "We can also study **direct connections**, revealed by partial correlation\n",
    "coefficients. We just change the `ConnectivityMeasure` kind\n",
    "\n"
   ]
  },
  {
   "cell_type": "code",
   "execution_count": null,
   "metadata": {},
   "outputs": [],
   "source": [
    "partial_correlation_measure = ConnectivityMeasure(kind='partial correlation')\n",
    "partial_correlation_matrices = partial_correlation_measure.fit_transform(\n",
    "    children)"
   ]
  },
  {
   "cell_type": "markdown",
   "metadata": {},
   "source": [
    "Most of direct connections are weaker than full connections.\n",
    "\n"
   ]
  },
  {
   "cell_type": "code",
   "execution_count": null,
   "metadata": {},
   "outputs": [],
   "source": [
    "_, axes = plt.subplots(1, 3, figsize=(15, 5))\n",
    "for i, (matrix, ax) in enumerate(zip(partial_correlation_matrices, axes)):\n",
    "    plotting.plot_matrix(matrix, tri='lower', colorbar=False, axes=ax,\n",
    "                         title='partial correlation, child {}'.format(i))"
   ]
  },
  {
   "cell_type": "code",
   "execution_count": null,
   "metadata": {},
   "outputs": [],
   "source": [
    "plotting.plot_connectome(\n",
    "    partial_correlation_measure.mean_, msdl_coords,\n",
    "    title='mean partial correlation over all children')"
   ]
  },
  {
   "cell_type": "markdown",
   "metadata": {},
   "source": [
    "Extract subjects variabilities around a group connectivity\n",
    "----------------------------------------------------------\n",
    "We can use **both** correlations and partial correlations to capture\n",
    "reproducible connectivity patterns at the group-level.\n",
    "This is done by the tangent space embedding.\n",
    "\n"
   ]
  },
  {
   "cell_type": "code",
   "execution_count": null,
   "metadata": {},
   "outputs": [],
   "source": [
    "tangent_measure = ConnectivityMeasure(kind='tangent')"
   ]
  },
  {
   "cell_type": "markdown",
   "metadata": {},
   "source": [
    "We fit our children group and get the group connectivity matrix stored as\n",
    "in `tangent_measure.mean_`, and individual deviation matrices of each subject\n",
    "from it.\n",
    "\n"
   ]
  },
  {
   "cell_type": "code",
   "execution_count": null,
   "metadata": {},
   "outputs": [],
   "source": [
    "tangent_matrices = tangent_measure.fit_transform(children)"
   ]
  },
  {
   "cell_type": "markdown",
   "metadata": {},
   "source": [
    "`tangent_matrices` model individual connectivities as\n",
    "**perturbations** of the group connectivity matrix `tangent_measure.mean_`.\n",
    "Keep in mind that these subjects-to-group variability matrices do not\n",
    "directly reflect individual brain connections. For instance negative\n",
    "coefficients can not be interpreted as anticorrelated regions.\n",
    "\n"
   ]
  },
  {
   "cell_type": "code",
   "execution_count": null,
   "metadata": {},
   "outputs": [],
   "source": [
    "_, axes = plt.subplots(1, 3, figsize=(15, 5))\n",
    "for i, (matrix, ax) in enumerate(zip(tangent_matrices, axes)):\n",
    "    plotting.plot_matrix(matrix, tri='lower', colorbar=False, axes=ax,\n",
    "                         title='tangent offset, child {}'.format(i))"
   ]
  },
  {
   "cell_type": "markdown",
   "metadata": {},
   "source": [
    "The average tangent matrix cannot be interpreted, as individual matrices\n",
    "represent deviations from the mean, which is set to 0.\n",
    "\n"
   ]
  },
  {
   "cell_type": "markdown",
   "metadata": {},
   "source": [
    "What kind of connectivity is most powerful for classification?\n",
    "--------------------------------------------------------------\n",
    "We will use connectivity matrices as features to distinguish children from\n",
    "adults. We use cross-validation and measure classification accuracy to\n",
    "compare the different kinds of connectivity matrices.\n",
    "We use random splits of the subjects into training/testing sets.\n",
    "StratifiedShuffleSplit allows preserving the proportion of children in the\n",
    "test set.\n",
    "\n"
   ]
  },
  {
   "cell_type": "code",
   "execution_count": null,
   "metadata": {},
   "outputs": [],
   "source": [
    "from sklearn.svm import LinearSVC\n",
    "from sklearn.model_selection import StratifiedShuffleSplit\n",
    "from sklearn.metrics import accuracy_score\n",
    "import numpy as np\n",
    "\n",
    "kinds = ['correlation', 'partial correlation', 'tangent']\n",
    "_, classes = np.unique(groups, return_inverse=True)\n",
    "cv = StratifiedShuffleSplit(n_splits=15, random_state=0, test_size=5)\n",
    "pooled_subjects = np.asarray(pooled_subjects)\n",
    "\n",
    "scores = {}\n",
    "for kind in kinds:\n",
    "    scores[kind] = []\n",
    "    for train, test in cv.split(pooled_subjects, classes):\n",
    "        # *ConnectivityMeasure* can output the estimated subjects coefficients\n",
    "        # as a 1D arrays through the parameter *vectorize*.\n",
    "        connectivity = ConnectivityMeasure(kind=kind, vectorize=True)\n",
    "        # build vectorized connectomes for subjects in the train set\n",
    "        connectomes = connectivity.fit_transform(pooled_subjects[train])\n",
    "        # fit the classifier\n",
    "        classifier = LinearSVC().fit(connectomes, classes[train])\n",
    "        # make predictions for the left-out test subjects\n",
    "        predictions = classifier.predict(\n",
    "            connectivity.transform(pooled_subjects[test]))\n",
    "        # store the accuracy for this cross-validation fold\n",
    "        scores[kind].append(accuracy_score(classes[test], predictions))"
   ]
  },
  {
   "cell_type": "markdown",
   "metadata": {},
   "source": [
    "display the results\n",
    "\n"
   ]
  },
  {
   "cell_type": "code",
   "execution_count": null,
   "metadata": {},
   "outputs": [],
   "source": [
    "mean_scores = [np.mean(scores[kind]) for kind in kinds]\n",
    "scores_std = [np.std(scores[kind]) for kind in kinds]\n",
    "\n",
    "plt.figure(figsize=(6, 4))\n",
    "positions = np.arange(len(kinds)) * .1 + .1\n",
    "plt.barh(positions, mean_scores, align='center', height=.05, xerr=scores_std)\n",
    "yticks = [k.replace(' ', '\\n') for k in kinds]\n",
    "plt.yticks(positions, yticks)\n",
    "plt.gca().grid(True)\n",
    "plt.gca().set_axisbelow(True)\n",
    "plt.gca().axvline(.8, color='red', linestyle='--')\n",
    "plt.xlabel('Classification accuracy\\n(red line = chance level)')\n",
    "plt.tight_layout()"
   ]
  },
  {
   "cell_type": "markdown",
   "metadata": {},
   "source": [
    "This is a small example to showcase nilearn features. In practice such\n",
    "comparisons need to be performed on much larger cohorts and several\n",
    "datasets.\n",
    "`Dadi et al 2019\n",
    "<https://www.sciencedirect.com/science/article/pii/S1053811919301594>`_\n",
    "Showed that across many cohorts and clinical questions, the tangent\n",
    "kind should be preferred.\n",
    "\n"
   ]
  },
  {
   "cell_type": "code",
   "execution_count": null,
   "metadata": {},
   "outputs": [],
   "source": []
  }
 ],
 "metadata": {
  "kernelspec": {
   "display_name": "Python 3",
   "language": "python",
   "name": "python3"
  },
  "language_info": {
   "codemirror_mode": {
    "name": "ipython",
    "version": 3
   },
   "file_extension": ".py",
   "mimetype": "text/x-python",
   "name": "python",
   "nbconvert_exporter": "python",
   "pygments_lexer": "ipython3",
   "version": "3.7.3"
  }
 },
 "nbformat": 4,
 "nbformat_minor": 1
}
